{
 "cells": [
  {
   "cell_type": "markdown",
   "metadata": {},
   "source": [
    "# Matplotlib and Plotting in Python\n",
    "Graphs are essential for visulazing data!  In python, one of the most commonly used packages for plotting is the pylot package in matplotlib.  This package is semi-based on matplot, so if you have experience with that it will look slightly familiar.  Let's practice a few matplotlib functions here!"
   ]
  },
  {
   "cell_type": "code",
   "execution_count": 3,
   "metadata": {},
   "outputs": [],
   "source": [
    "import matplotlib.pyplot as plt\n",
    "import numpy as np\n",
    "import pandas as pd"
   ]
  },
  {
   "cell_type": "markdown",
   "metadata": {},
   "source": [
    "First, we will need to grab some data to work with.  Let's load my research data using pandas:"
   ]
  },
  {
   "cell_type": "code",
   "execution_count": 5,
   "metadata": {},
   "outputs": [
    {
     "data": {
      "text/html": [
       "<div>\n",
       "<style scoped>\n",
       "    .dataframe tbody tr th:only-of-type {\n",
       "        vertical-align: middle;\n",
       "    }\n",
       "\n",
       "    .dataframe tbody tr th {\n",
       "        vertical-align: top;\n",
       "    }\n",
       "\n",
       "    .dataframe thead th {\n",
       "        text-align: right;\n",
       "    }\n",
       "</style>\n",
       "<table border=\"1\" class=\"dataframe\">\n",
       "  <thead>\n",
       "    <tr style=\"text-align: right;\">\n",
       "      <th></th>\n",
       "      <th>Galaxy</th>\n",
       "      <th>[CII]Lum</th>\n",
       "      <th>[CII]Lerr</th>\n",
       "      <th>[NII]Lum</th>\n",
       "      <th>[NII]Lerr</th>\n",
       "      <th>fneut</th>\n",
       "      <th>fneut_err</th>\n",
       "      <th>LTIR</th>\n",
       "      <th>TIRerr</th>\n",
       "      <th>70160</th>\n",
       "      <th>70160_err</th>\n",
       "      <th>area</th>\n",
       "      <th>cosi</th>\n",
       "      <th>SFR</th>\n",
       "      <th>SFRerr</th>\n",
       "      <th>n_e</th>\n",
       "    </tr>\n",
       "  </thead>\n",
       "  <tbody>\n",
       "    <tr>\n",
       "      <th>0</th>\n",
       "      <td>ngc0628e00</td>\n",
       "      <td>4.914030e+39</td>\n",
       "      <td>4.918350e+38</td>\n",
       "      <td>5.229200e+38</td>\n",
       "      <td>1.586660e+38</td>\n",
       "      <td>0.622479</td>\n",
       "      <td>0.075083</td>\n",
       "      <td>1.337408e+42</td>\n",
       "      <td>3.719701e+40</td>\n",
       "      <td>1.667059</td>\n",
       "      <td>0.118658</td>\n",
       "      <td>1.531171</td>\n",
       "      <td>0.910413</td>\n",
       "      <td>0.075997</td>\n",
       "      <td>0.002783</td>\n",
       "      <td>27.415736</td>\n",
       "    </tr>\n",
       "    <tr>\n",
       "      <th>1</th>\n",
       "      <td>ngc2798nuc</td>\n",
       "      <td>4.055900e+41</td>\n",
       "      <td>4.056606e+40</td>\n",
       "      <td>2.357690e+40</td>\n",
       "      <td>7.092116e+39</td>\n",
       "      <td>0.799880</td>\n",
       "      <td>0.050743</td>\n",
       "      <td>2.779856e+44</td>\n",
       "      <td>8.161728e+42</td>\n",
       "      <td>3.364298</td>\n",
       "      <td>0.239197</td>\n",
       "      <td>19.660665</td>\n",
       "      <td>0.360127</td>\n",
       "      <td>13.639043</td>\n",
       "      <td>0.541490</td>\n",
       "      <td>77.089461</td>\n",
       "    </tr>\n",
       "    <tr>\n",
       "      <th>2</th>\n",
       "      <td>ngc2976e00</td>\n",
       "      <td>4.253690e+39</td>\n",
       "      <td>4.254016e+38</td>\n",
       "      <td>1.062370e+38</td>\n",
       "      <td>3.218280e+37</td>\n",
       "      <td>0.913708</td>\n",
       "      <td>0.025153</td>\n",
       "      <td>1.048223e+42</td>\n",
       "      <td>3.057906e+40</td>\n",
       "      <td>1.994979</td>\n",
       "      <td>0.141256</td>\n",
       "      <td>0.372234</td>\n",
       "      <td>0.419386</td>\n",
       "      <td>0.043718</td>\n",
       "      <td>0.001623</td>\n",
       "      <td>61.517147</td>\n",
       "    </tr>\n",
       "    <tr>\n",
       "      <th>3</th>\n",
       "      <td>ngc3049nuc</td>\n",
       "      <td>6.039900e+40</td>\n",
       "      <td>6.043904e+39</td>\n",
       "      <td>2.443890e+39</td>\n",
       "      <td>7.663261e+38</td>\n",
       "      <td>0.857484</td>\n",
       "      <td>0.040224</td>\n",
       "      <td>2.087241e+43</td>\n",
       "      <td>5.860597e+41</td>\n",
       "      <td>2.712361</td>\n",
       "      <td>0.192975</td>\n",
       "      <td>10.888329</td>\n",
       "      <td>0.643008</td>\n",
       "      <td>1.302635</td>\n",
       "      <td>0.047007</td>\n",
       "      <td>114.550222</td>\n",
       "    </tr>\n",
       "    <tr>\n",
       "      <th>4</th>\n",
       "      <td>ngc3351nuc</td>\n",
       "      <td>4.434020e+40</td>\n",
       "      <td>4.434421e+39</td>\n",
       "      <td>3.377270e+39</td>\n",
       "      <td>1.014207e+39</td>\n",
       "      <td>0.718263</td>\n",
       "      <td>0.064051</td>\n",
       "      <td>2.598507e+43</td>\n",
       "      <td>7.548966e+41</td>\n",
       "      <td>2.244095</td>\n",
       "      <td>0.158959</td>\n",
       "      <td>2.571118</td>\n",
       "      <td>0.659052</td>\n",
       "      <td>1.115192</td>\n",
       "      <td>0.042669</td>\n",
       "      <td>241.544882</td>\n",
       "    </tr>\n",
       "  </tbody>\n",
       "</table>\n",
       "</div>"
      ],
      "text/plain": [
       "       Galaxy      [CII]Lum     [CII]Lerr      [NII]Lum     [NII]Lerr  \\\n",
       "0  ngc0628e00  4.914030e+39  4.918350e+38  5.229200e+38  1.586660e+38   \n",
       "1  ngc2798nuc  4.055900e+41  4.056606e+40  2.357690e+40  7.092116e+39   \n",
       "2  ngc2976e00  4.253690e+39  4.254016e+38  1.062370e+38  3.218280e+37   \n",
       "3  ngc3049nuc  6.039900e+40  6.043904e+39  2.443890e+39  7.663261e+38   \n",
       "4  ngc3351nuc  4.434020e+40  4.434421e+39  3.377270e+39  1.014207e+39   \n",
       "\n",
       "      fneut  fneut_err          LTIR        TIRerr     70160  70160_err  \\\n",
       "0  0.622479   0.075083  1.337408e+42  3.719701e+40  1.667059   0.118658   \n",
       "1  0.799880   0.050743  2.779856e+44  8.161728e+42  3.364298   0.239197   \n",
       "2  0.913708   0.025153  1.048223e+42  3.057906e+40  1.994979   0.141256   \n",
       "3  0.857484   0.040224  2.087241e+43  5.860597e+41  2.712361   0.192975   \n",
       "4  0.718263   0.064051  2.598507e+43  7.548966e+41  2.244095   0.158959   \n",
       "\n",
       "        area      cosi        SFR    SFRerr         n_e  \n",
       "0   1.531171  0.910413   0.075997  0.002783   27.415736  \n",
       "1  19.660665  0.360127  13.639043  0.541490   77.089461  \n",
       "2   0.372234  0.419386   0.043718  0.001623   61.517147  \n",
       "3  10.888329  0.643008   1.302635  0.047007  114.550222  \n",
       "4   2.571118  0.659052   1.115192  0.042669  241.544882  "
      ]
     },
     "execution_count": 5,
     "metadata": {},
     "output_type": "execute_result"
    }
   ],
   "source": [
    "data = pd.read_csv('kf_data_cigale.txt', delim_whitespace=True)\n",
    "data_top = data.head()  \n",
    "    \n",
    "# display  \n",
    "data_top  "
   ]
  },
  {
   "cell_type": "markdown",
   "metadata": {},
   "source": [
    "I've printed the first few rows of this file so we can see what the headers are.  Let's star by making a scatter plot of [CII] luminosity ([CII]Lum) vs infrared luminosity (LTIR).  In matplotlib we can do this using the 'scatter' function.  Scatter needs a set of x values and a set of y values.  You can add markers, colors, and sizes of the points if you want."
   ]
  },
  {
   "cell_type": "code",
   "execution_count": 10,
   "metadata": {},
   "outputs": [
    {
     "data": {
      "text/plain": [
       "<matplotlib.collections.PathCollection at 0x11f508e90>"
      ]
     },
     "execution_count": 10,
     "metadata": {},
     "output_type": "execute_result"
    },
    {
     "data": {
      "image/png": "[encoded data removed]",
      "text/plain": [
       "<Figure size 432x288 with 1 Axes>"
      ]
     },
     "metadata": {
      "needs_background": "light"
     },
     "output_type": "display_data"
    }
   ],
   "source": [
    "plt.scatter(data['[CII]Lum'], data['LTIR'], c='magenta', marker='*', s = 50)"
   ]
  },
  {
   "cell_type": "markdown",
   "metadata": {},
   "source": [
    "We can add x and y axis labels using the xlabel and ylabel code:"
   ]
  },
  {
   "cell_type": "code",
   "execution_count": 11,
   "metadata": {},
   "outputs": [
    {
     "data": {
      "text/plain": [
       "Text(0, 0.5, 'Infrared Luminosity (erg/s)')"
      ]
     },
     "execution_count": 11,
     "metadata": {},
     "output_type": "execute_result"
    },
    {
     "data": {
      "image/png": "[encoded data removed]",
      "text/plain": [
       "<Figure size 432x288 with 1 Axes>"
      ]
     },
     "metadata": {
      "needs_background": "light"
     },
     "output_type": "display_data"
    }
   ],
   "source": [
    "plt.scatter(data['[CII]Lum'], data['LTIR'], c='magenta', marker='*', s = 50)\n",
    "plt.xlabel('[CII] Luminosity (erg/s)')\n",
    "plt.ylabel('Infrared Luminosity (erg/s)')"
   ]
  },
  {
   "cell_type": "markdown",
   "metadata": {},
   "source": [
    "We can also change the scalling of this graph.  Let's say we want to work in a log scale instead, we can use the code yscale and xscale"
   ]
  },
  {
   "cell_type": "code",
   "execution_count": 12,
   "metadata": {},
   "outputs": [
    {
     "data": {
      "image/png": "[encoded data removed]",
      "text/plain": [
       "<Figure size 432x288 with 1 Axes>"
      ]
     },
     "metadata": {
      "needs_background": "light"
     },
     "output_type": "display_data"
    }
   ],
   "source": [
    "plt.scatter(data['[CII]Lum'], data['LTIR'], c='magenta', marker='*', s = 50)\n",
    "plt.xlabel('[CII] Luminosity (erg/s)')\n",
    "plt.ylabel('Infrared Luminosity (erg/s)')\n",
    "plt.xscale('log')\n",
    "plt.yscale('log')"
   ]
  },
  {
   "cell_type": "markdown",
   "metadata": {},
   "source": [
    "Matplotlib can also plot histograms, plots with errorbars, and line plots.  We will work with a few of these throghout the semester!  I will always give an example before you have to use that code.  Here's a histogram:"
   ]
  },
  {
   "cell_type": "code",
   "execution_count": 14,
   "metadata": {},
   "outputs": [
    {
     "data": {
      "text/plain": [
       "(array([1., 1., 0., 2., 5., 3., 6.]),\n",
       " array([0.16307149, 0.27452803, 0.38598457, 0.49744112, 0.60889766,\n",
       "        0.7203542 , 0.83181075, 0.94326729]),\n",
       " <a list of 7 Patch objects>)"
      ]
     },
     "execution_count": 14,
     "metadata": {},
     "output_type": "execute_result"
    },
    {
     "data": {
      "image/png": "[encoded data removed]",
      "text/plain": [
       "<Figure size 432x288 with 1 Axes>"
      ]
     },
     "metadata": {
      "needs_background": "light"
     },
     "output_type": "display_data"
    }
   ],
   "source": [
    "plt.hist(data['fneut'],7)"
   ]
  },
  {
   "cell_type": "markdown",
   "metadata": {},
   "source": [
    "The seven tells matplotlib I want my data divided into seven bins"
   ]
  },
  {
   "cell_type": "markdown",
   "metadata": {},
   "source": [
    "If we want to plot a function connected by a line, we can use matplotlib's plot function.  First, let's make something that makes sense to be connected by a line.  We can do this by creating an array with numpy with values 0-10 using np.arange which can make arrays with values specified by the user.  The user can input a starting value, an ending value, and a size of the step between values in the array.  So, if I want an array with values 0-10, I can use the code:"
   ]
  },
  {
   "cell_type": "code",
   "execution_count": 16,
   "metadata": {},
   "outputs": [
    {
     "name": "stdout",
     "output_type": "stream",
     "text": [
      "[ 0  1  2  3  4  5  6  7  8  9 10]\n"
     ]
    }
   ],
   "source": [
    "x = np.arange(0,11,1)\n",
    "print(x)"
   ]
  },
  {
   "cell_type": "markdown",
   "metadata": {},
   "source": [
    "If we want to plot a line with a slope of -3 and a y-intercept of 5, we can define a y array and use plot:"
   ]
  },
  {
   "cell_type": "code",
   "execution_count": 17,
   "metadata": {},
   "outputs": [
    {
     "data": {
      "text/plain": [
       "[<matplotlib.lines.Line2D at 0x11f90bed0>]"
      ]
     },
     "execution_count": 17,
     "metadata": {},
     "output_type": "execute_result"
    },
    {
     "data": {
      "image/png": "[encoded data removed]",
      "text/plain": [
       "<Figure size 432x288 with 1 Axes>"
      ]
     },
     "metadata": {
      "needs_background": "light"
     },
     "output_type": "display_data"
    }
   ],
   "source": [
    "y = -3*x+5\n",
    "plt.plot(x, y)"
   ]
  },
  {
   "cell_type": "markdown",
   "metadata": {},
   "source": [
    "These are just some of the basic functions we can do with matplotlib, a very useful plotting tool!"
   ]
  },
  {
   "cell_type": "code",
   "execution_count": null,
   "metadata": {},
   "outputs": [],
   "source": []
  }
 ],
 "metadata": {
  "kernelspec": {
   "display_name": "Python 3",
   "language": "python",
   "name": "python3"
  },
  "language_info": {
   "codemirror_mode": {
    "name": "ipython",
    "version": 3
   },
   "file_extension": ".py",
   "mimetype": "text/x-python",
   "name": "python",
   "nbconvert_exporter": "python",
   "pygments_lexer": "ipython3",
   "version": "3.7.6"
  }
 },
 "nbformat": 4,
 "nbformat_minor": 4
}
