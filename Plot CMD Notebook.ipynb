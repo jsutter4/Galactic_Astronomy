{
 "cells": [
  {
   "cell_type": "markdown",
   "metadata": {},
   "source": [
    "# Galaxy Color-Magnitude Diagrams\n",
    "In this activity, we will work to build a color-magnitude diagram (CMD) for nearby galaxies.  CMDs are often used to classify objects and determine basic properties of different types of galaxies.  \n",
    "Let's start by loading programs to plot the data (matplotlib.pyplot) and read the data (pandas).  We will also load a set of galaxies from the galaxy zoo project in a file you can grab from canvas called 'gzoo_colors.csv'."
   ]
  },
  {
   "cell_type": "code",
   "execution_count": 1,
   "metadata": {},
   "outputs": [],
   "source": [
    "import matplotlib.pyplot as plt\n",
    "import pandas as pd\n",
    "gzoo = pd.read_csv('gzoo_colors.csv')"
   ]
  },
  {
   "cell_type": "markdown",
   "metadata": {},
   "source": [
    "In the code above, you have loaded two python packages.  matplotlib.pyplot is a great tool for making graphs that we will use throughout the semester.  pandas is a package for reading data.  There are other tools for reading text files (like numpy).  I like to use pandas because it is able to deal with files that have both words and numbers.  Some programs will be grumpy if you give it a file that has data listed using multiple datatypes, but pandas will do this nicely!  pandas also lets you pull data from a file based on the headers listed in the file.  For example, if I wanted a list of all the RA values of the galaxy zoo data set, I could make a new list using the code:\n",
    "gzoo_ra = gzoo['RA']\n",
    "where RA is the name of the column in the gzoo_colors spreadsheet.  "
   ]
  },
  {
   "cell_type": "markdown",
   "metadata": {},
   "source": [
    "To understand better how galaxies are different, we will seperate ellipticals and spirals in this dataset.  We can do this by telling python we want a new dataset for all the rows in our galaxy zoo dataset that have the 'SPIRAL' column set to 1.0 (meaning it is a spiral).  I've done this in the code below"
   ]
  },
  {
   "cell_type": "code",
   "execution_count": 3,
   "metadata": {},
   "outputs": [],
   "source": [
    "spirals = gzoo[gzoo['SPIRAL']==1.0]\n",
    "es = gzoo[gzoo['ELLIPTICAL']==1.0]"
   ]
  },
  {
   "cell_type": "markdown",
   "metadata": {},
   "source": [
    "Now we can plot the SDSS $g - i$ colors against the $i$ magnitude.  We will use matplotlib.pyplot, which we loaded as plt.  The scatter function in pyplot makes a scatter plot of the data. \n",
    "plt.scatter(x, y) would be enough to create a scatter plot of x vs y, I've just added some code to tell it what colors and symbols I want to use.\n",
    "\n",
    "I've also added labels on the x- and y-axis using the xlabel and ylabel functions, and I've changed the limits on the x- and y-axis using the xlim/ylim functions.  I flipped the values on the x-axis (lower numbers to the right) by setting -14 to be my lower value on the xlim function.\n",
    "\n",
    "Why did I flip the x-axis?  Which galaxies are redder?  What do you notice?"
   ]
  },
  {
   "cell_type": "code",
   "execution_count": 4,
   "metadata": {},
   "outputs": [
    {
     "data": {
      "image/png": "[encoded data removed]",
      "text/plain": [
       "<Figure size 432x288 with 1 Axes>"
      ]
     },
     "metadata": {
      "needs_background": "light"
     },
     "output_type": "display_data"
    }
   ],
   "source": [
    "plt.scatter(es['absmagi'], es['gminusi'], color='red', marker='x')\n",
    "plt.scatter(spirals['absmagi'], spirals['gminusi'], color='cyan', marker='x')\n",
    "plt.xlabel('$i$')\n",
    "plt.ylabel('$g-i$')\n",
    "plt.xlim(-14, -24)\n",
    "plt.ylim(-1.0, 2.0)\n",
    "plt.show()"
   ]
  },
  {
   "cell_type": "markdown",
   "metadata": {},
   "source": [
    "Compare this plot to Figure 3 of Gavazzi+2018 that can be found here: https://arxiv.org/abs/1003.3795\n",
    "What do you notice?  What is similar/different?  "
   ]
  },
  {
   "cell_type": "markdown",
   "metadata": {},
   "source": [
    "#  Your Turn!\n",
    "Now, use the dwarf_data.txt and ulirg_data.txt to add the Herschel Dwarf Galaxies and the GOALS Ultra-Luminous Infrared Galaxies to our Galaxy CMD.  Note that I have not calculated colors or absolute magnitudes for these datatsets, so you will need to use the distance modulous to find the $i$ band magnitude!  "
   ]
  },
  {
   "cell_type": "markdown",
   "metadata": {},
   "source": [
    "* A few other notes:  "
   ]
  },
  {
   "cell_type": "markdown",
   "metadata": {},
   "source": [
    "1. You may want to adjust the x- and y- limits on the axis to fully include the new data.  Don't worry about getting all the outliers in\n",
    "2. Remember, the distance modulus is $m-M = -5+5log_{10}(d) = $d_mod in the text files.  We need the absolute magnitude to make these plots, and I have given you the apparent magnitudes.\n",
    "3. Make sure you change the colors/symbols for the dwarfs and ULIRGs so you can tell them apart!  Consider adding a legend to your plot! You can read more about how to do this here: https://matplotlib.org/3.3.1/api/_as_gen/matplotlib.pyplot.legend.html\n",
    "4. We can use the same method to load the data, but since I made the dwarf and ulirg file slightly differently.  This means we need to tell pandas to look for white space to indicate a new column.  We can do this using the code: pd.read_csv('filename', delim_whitespace=True)\n",
    "5. You can open the txt files to read the column headers, but the ones you will need are:\n",
    "\n",
    "$i$-band apparent magnitude: 'Mag_i'\n",
    "\n",
    "$g$-band apparent magnitude: 'Mag_g'\n",
    "\n",
    "distance modulus: 'd_mod'"
   ]
  },
  {
   "cell_type": "markdown",
   "metadata": {},
   "source": [
    "Once you have made your figure, take a few minutes to reflect on what you have found.  How are ULIRGs and Dwarfs similar/different from the spirals and ellipticals we plotted earlier?  Do the positions on the CMD make sense?  How might you use your CMD to determine properties of a galaxy?"
   ]
  },
  {
   "cell_type": "markdown",
   "metadata": {},
   "source": [
    "Finally, look up the $g$ and $i$ band magnitudes for your galaxy using SIMBAD: http://simbad.u-strasbg.fr/simbad/ \n",
    "\n",
    "Add your galaxy to your plot with a star marker (marker='*').  Does it fall where you would expect?"
   ]
  },
  
  {
   "cell_type": "code",
   "execution_count": null,
   "metadata": {},
   "outputs": [],
   "source": []
  },
  {
   "cell_type": "code",
   "execution_count": null,
   "metadata": {},
   "outputs": [],
   "source": []
  }
 ],
 "metadata": {
  "kernelspec": {
   "display_name": "Python 3",
   "language": "python",
   "name": "python3"
  },
  "language_info": {
   "codemirror_mode": {
    "name": "ipython",
    "version": 3
   },
   "file_extension": ".py",
   "mimetype": "text/x-python",
   "name": "python",
   "nbconvert_exporter": "python",
   "pygments_lexer": "ipython3",
   "version": "3.7.6"
  }
 },
 "nbformat": 4,
 "nbformat_minor": 4
}
