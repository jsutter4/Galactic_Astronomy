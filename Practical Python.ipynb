{
 "cells": [
  {
   "cell_type": "markdown",
   "metadata": {},
   "source": [
    "# Practical Python Page\n",
    "This notebook will hopefully provide a bit of a background resource for anyone new to python.  I hope this helps folks understand what's happening in our in-class projects!\n",
    "\n",
    "## Types of Variables\n",
    "In python, there are three major types of variables we will work with.  These are floats (numbers with decimals), ints (integers), and strings (words).  Let's say we know we are going to be using the speed of light in some calculations.  We can define a variable 'c' to be equal to the speed of light in $\\mu$m/s, i.e. 3.0$\\times10^{14}$ using code:"
   ]
  },
  {
   "cell_type": "code",
   "execution_count": null,
   "metadata": {},
   "outputs": [],
   "source": [
    "c = 3.0E14"
   ]
  },
  {
   "cell_type": "markdown",
   "metadata": {},
   "source": [
    "Python will store the speed of light so we can use it later in our code!  For example, if I wanted to calculate the frequency of 24.0 micron light, we could call on that variable with code:"
   ]
  },
  {
   "cell_type": "code",
   "execution_count": null,
   "metadata": {},
   "outputs": [],
   "source": [
    "nu = c / 24.0\n",
    "print(nu)"
   ]
  },
  {
   "cell_type": "markdown",
   "metadata": {},
   "source": [
    "We can also make variables that are words, or strings.  We will often use these to store filenames.  To specify we are working with a string, we will need to list the string inside quotation marks.  For example, if we are working with a file called test.txt, we could define a new variable called filename:"
   ]
  },
  {
   "cell_type": "code",
   "execution_count": null,
   "metadata": {},
   "outputs": [],
   "source": [
    "filename = 'test.txt'\n",
    "print(filename)"
   ]
  },
  {
   "cell_type": "markdown",
   "metadata": {},
   "source": [
    "Which will be stored and we can use later.  The columns of the files we will be working with will also be stored as strings, and need the quotation marks around their names to work.  "
   ]
  },
  {
   "cell_type": "markdown",
   "metadata": {},
   "source": [
    "A slightly funky python math thing is how python uses a double-asterix (**) to indicate raising something to a power.  So, no carots (^).  For example, 2^4 is:"
   ]
  },
  {
   "cell_type": "code",
   "execution_count": null,
   "metadata": {},
   "outputs": [],
   "source": [
    "2**4"
   ]
  },
  {
   "cell_type": "markdown",
   "metadata": {},
   "source": [
    "## Lists and Arrays"
   ]
  },
  {
   "cell_type": "markdown",
   "metadata": {},
   "source": [
    "Often, we don't just want to store one float or string, but a bunch of them in one place.  We can do that using arrays.  For example, here's an array I made using numpy of the numbers 1-10 which I have named l1:"
   ]
  },
  {
   "cell_type": "code",
   "execution_count": null,
   "metadata": {},
   "outputs": [],
   "source": [
    "import numpy as np\n",
    "l1 = np.array([1.,2.,3.,4.,5.,6.,7.,8.,9.,10.])"
   ]
  },
  {
   "cell_type": "markdown",
   "metadata": {},
   "source": [
    "We can now do all kinds of neat things to all the values in this list.  For example, if I wanted a new list that was all the values in this list multiplied by 5, I could write a new list l2 using the code:"
   ]
  },
  {
   "cell_type": "code",
   "execution_count": null,
   "metadata": {},
   "outputs": [],
   "source": [
    "l2 = l1*5.0\n",
    "print(l2)"
   ]
  },
  {
   "cell_type": "markdown",
   "metadata": {},
   "source": [
    "Or, if we want a new array with only the values greater than 5, we can do that with code:"
   ]
  },
  {
   "cell_type": "code",
   "execution_count": null,
   "metadata": {},
   "outputs": [],
   "source": [
    "l3 = l1[l1>5.0]\n",
    "print(l3)"
   ]
  },
  {
   "cell_type": "markdown",
   "metadata": {},
   "source": [
    "In words, in the code above, I told python to make a new array called l3 that takes all the values from within l1 where the statement value > 5 is true.  "
   ]
  },
  {
   "cell_type": "markdown",
   "metadata": {},
   "source": [
    "We can also pull single values from this array.  Let's say we want to work with the fifth value in our l2 array.  We can do that using the code:"
   ]
  },
  {
   "cell_type": "code",
   "execution_count": null,
   "metadata": {},
   "outputs": [],
   "source": [
    "x = l2[4]\n",
    "print(x)"
   ]
  },
  {
   "cell_type": "markdown",
   "metadata": {},
   "source": [
    "Annoying Python thing: python indexes start with zero and count up.  So, the fifth value in the array becomes the fourth value, as the first value is the zeroth value.  Slightly confusing, but usually we just need to remember that we often need to subtract one from what we would normally think, because python starts counting at zero instead of one."
   ]
  },
  {
   "cell_type": "markdown",
   "metadata": {},
   "source": [
    "Arrays can also have multiple dimensions.  The fits files we will work with are large, multi-dimensional arrays.  Here's a much smaller example of a 3x3 array"
   ]
  },
  {
   "cell_type": "code",
   "execution_count": null,
   "metadata": {},
   "outputs": [],
   "source": [
    "a = np.array([[1,2,3],[4,5,6],[7,8,9]])\n",
    "print(a)"
   ]
  },
  {
   "cell_type": "markdown",
   "metadata": {},
   "source": [
    "We can treat this array in much the same way we did our 1-D array earlier.  For example, multiplying by 5 is the same:"
   ]
  },
  {
   "cell_type": "code",
   "execution_count": null,
   "metadata": {},
   "outputs": [],
   "source": [
    "a2 = a*5.\n",
    "print(a2)"
   ]
  },
  {
   "cell_type": "markdown",
   "metadata": {},
   "source": [
    "And to pull out a specific value, we can give a position in the array with a row and column indicator:"
   ]
  },
  {
   "cell_type": "code",
   "execution_count": null,
   "metadata": {},
   "outputs": [],
   "source": [
    "x = a[1,1]\n",
    "print(x)"
   ]
  },
  {
   "cell_type": "markdown",
   "metadata": {},
   "source": [
    "or we can pull out a whole row using the code:"
   ]
  },
  {
   "cell_type": "code",
   "execution_count": null,
   "metadata": {},
   "outputs": [],
   "source": [
    "a_row = a[0]\n",
    "print(a_row)"
   ]
  },
  {
   "cell_type": "markdown",
   "metadata": {},
   "source": [
    "or a single column using the code:"
   ]
  },
  {
   "cell_type": "code",
   "execution_count": null,
   "metadata": {},
   "outputs": [],
   "source": [
    "a_column = a[:,1]\n",
    "print(a_column)"
   ]
  },
  {
   "cell_type": "markdown",
   "metadata": {},
   "source": [
    "We could also plot this array like we do with the arrays in the fits files using similar code to what you have used in class:"
   ]
  },
  {
   "cell_type": "code",
   "execution_count": null,
   "metadata": {},
   "outputs": [],
   "source": [
    "import matplotlib.pyplot as plt\n",
    "plt.imshow(a, cmap='gray')\n",
    "plt.colorbar()"
   ]
  },
  {
   "cell_type": "markdown",
   "metadata": {},
   "source": [
    "When we do this with the data from an image, what we are doing is building an array with the flux values for each individual pixel listed in rows and columns.  So we can pull the flux for a specific pixel using the same method as I used above, as long as we know which pixel we are interested in."
   ]
  },
  {
   "cell_type": "markdown",
   "metadata": {},
   "source": [
    "## Functions\n",
    "Python also has options to create or use previously made functions to do math, make plots, and do all kinds of fun things!  We won't be making many new functions, instead we will be working with those already made and available in the different packages we will load at the beginning of each program.  In the code above, I used the imshow function from the matplotlib.pylot to plot the values of an array.  Most functions will have some necessary inputs (like the array filled with data in imshow) and some optional imputs (like the cmap='gray' input, which tells imshow to use grayscale to color the image)."
   ]
  },
  {
   "cell_type": "markdown",
   "metadata": {},
   "source": [
    "A slightly simplier example of a function is numpy's median function, which finds the median value of an array.  For example, the l2 array we made earlier has a median:"
   ]
  },
  {
   "cell_type": "code",
   "execution_count": null,
   "metadata": {},
   "outputs": [],
   "source": [
    "print(l2)\n",
    "med = np.median(l2)\n",
    "print('The median value of the l2 array is ', med)"
   ]
  },
  {
   "cell_type": "markdown",
   "metadata": {},
   "source": [
    "We can also use functions to find the minimum value of an array, maximum value of an array, or the size of an array.  Here are some examples with our a array:"
   ]
  },
  {
   "cell_type": "code",
   "execution_count": null,
   "metadata": {},
   "outputs": [],
   "source": [
    "print(a)"
   ]
  },
  {
   "cell_type": "code",
   "execution_count": null,
   "metadata": {},
   "outputs": [],
   "source": [
    "print(np.min(a))"
   ]
  },
  {
   "cell_type": "code",
   "execution_count": null,
   "metadata": {},
   "outputs": [],
   "source": [
    "print(np.max(a))"
   ]
  },
  {
   "cell_type": "code",
   "execution_count": null,
   "metadata": {},
   "outputs": [],
   "source": [
    "print(a.shape)"
   ]
  },
  {
   "cell_type": "markdown",
   "metadata": {},
   "source": [
    "## Loading Text Files with Pandas"
   ]
  },
  {
   "cell_type": "markdown",
   "metadata": {},
   "source": [
    "We will often work with data stored in text files.  I've put a txt file with some data from my research in our course files called 'kf_data_cigale.txt'.  We can load this data into a pandas dataframe using the code:"
   ]
  },
  {
   "cell_type": "code",
   "execution_count": null,
   "metadata": {},
   "outputs": [],
   "source": [
    "import pandas as pd\n",
    "data = pd.read_csv('kf_data_cigale.txt', delim_whitespace=True)"
   ]
  },
  {
   "cell_type": "markdown",
   "metadata": {},
   "source": [
    "In the code above, I loaded the pandas packages and then told pandas to make a dataframe (kind of a fancy array) with all the information from the file kf_data_cigale.txt in it.  I also told pandas to treat any white space as an indicator of a new row using the optional input: delim_whitespace=True.  Typically, read_csv looks for commas to indicate a new row, but I used tabs because that is easier for me to read.  Telling pandas to instead look for blank space to indicate a new row makes things easier for me to process!"
   ]
  },
  {
   "cell_type": "markdown",
   "metadata": {},
   "source": [
    "We can now create arrays of the data in this file.  For example, if I wanted an array with all the star formation rates (which I list in a row called 'SFR') I would use the code:"
   ]
  },
  {
   "cell_type": "code",
   "execution_count": null,
   "metadata": {},
   "outputs": [],
   "source": [
    "sfr = data['SFR']\n",
    "print(sfr)"
   ]
  },
  {
   "cell_type": "markdown",
   "metadata": {},
   "source": [
    "If I want to plot my infrared luminosities (storred in a column called LTIR) vs these star formation rate measurements, I could use matplotlib again, which the code scatter:"
   ]
  },
  {
   "cell_type": "code",
   "execution_count": null,
   "metadata": {},
   "outputs": [],
   "source": [
    "LTIR = data['LTIR']\n",
    "plt.scatter(LTIR, sfr)"
   ]
  },
  {
   "cell_type": "markdown",
   "metadata": {},
   "source": [
    "So, I've now used matplotlib's function scatter to plot my LTIR vs SFR datapoints from the file I loaded.  "
   ]
  },
  {
   "cell_type": "markdown",
   "metadata": {},
   "source": [
    "One of the reasons dataframes are nice is that they let us store strings and floats together. So, the names of the regions I study are all listed as strings in a row called 'Galaxy'.  If I wanted to pull the star formation rate for one of the regions within NGC0628, I can do that using the code:"
   ]
  },
  {
   "cell_type": "code",
   "execution_count": null,
   "metadata": {},
   "outputs": [],
   "source": [
    "print(data[data['Galaxy']=='ngc0628e00']['SFR'])"
   ]
  },
  {
   "cell_type": "markdown",
   "metadata": {},
   "source": [
    "Here I told python to print the 'SFR' row of the column where the 'Galaxy' value is exactly equal (==) to the string 'ngc0628e00'."
   ]
  },
  {
   "cell_type": "code",
   "execution_count": null,
   "metadata": {},
   "outputs": [],
   "source": []
  }
 ],
 "metadata": {
  "kernelspec": {
   "display_name": "Python 3",
   "language": "python",
   "name": "python3"
  },
  "language_info": {
   "codemirror_mode": {
    "name": "ipython",
    "version": 3
   },
   "file_extension": ".py",
   "mimetype": "text/x-python",
   "name": "python",
   "nbconvert_exporter": "python",
   "pygments_lexer": "ipython3",
   "version": "3.7.6"
  }
 },
 "nbformat": 4,
 "nbformat_minor": 4
}
